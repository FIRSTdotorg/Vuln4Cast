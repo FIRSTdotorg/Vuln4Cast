{
 "cells": [
  {
   "cell_type": "markdown",
   "metadata": {
    "cell_id": "bb04d5a1bb8e4497920028dc3c4e42dc",
    "deepnote_cell_type": "markdown",
    "id": "tSjJuvKTyjbo"
   },
   "source": [
    "# Setup our vulnerability data science lab environment"
   ]
  },
  {
   "cell_type": "markdown",
   "metadata": {
    "cell_id": "f9c118ffb87149e4b179ed5971dff440",
    "deepnote_cell_type": "markdown",
    "id": "QVjRIuM97Wv4"
   },
   "source": [
    "First we'll import all the libraries we need. A couple of them need installed first. JQ is a pythonic implementation of jq; a tool for querying json really fast. When looking at 25 years of vulnerabilities it is enormously useful."
   ]
  },
  {
   "cell_type": "code",
   "execution_count": 1,
   "metadata": {
    "cell_id": "928c5d78a3764995bb6be4d541674ac4",
    "colab": {
     "base_uri": "https://localhost:8080/"
    },
    "deepnote_cell_type": "code",
    "execution_context_id": "e1d7fc6f-c71c-4e3a-833b-f7b9b55a59d9",
    "execution_millis": 3,
    "execution_start": 1750164862600,
    "id": "Ac3vLew6N8Ik",
    "outputId": "d82755ff-c8b6-42ce-cb0a-faa60dec1195",
    "source_hash": "9d9e59c8"
   },
   "outputs": [],
   "source": [
    "#!pip install requests\n",
    "#!pip install hurst\n",
    "#!pip install jq"
   ]
  },
  {
   "cell_type": "code",
   "execution_count": 2,
   "metadata": {
    "cell_id": "26227df45cbe49da9823e918713adfd3",
    "deepnote_cell_type": "code",
    "execution_context_id": "e1d7fc6f-c71c-4e3a-833b-f7b9b55a59d9",
    "execution_millis": 3381,
    "execution_start": 1750164867975,
    "id": "aPf4YVs47Hr3",
    "source_hash": "48d5f783"
   },
   "outputs": [
    {
     "name": "stdout",
     "output_type": "stream",
     "text": [
      "Requirement already satisfied: jq in /Users/jeroen/.virtualenvs/cve-analysis/lib/python3.12/site-packages (1.9.1)\n",
      "Collecting scikit-learn\n",
      "  Downloading scikit_learn-1.7.0-cp312-cp312-macosx_12_0_arm64.whl.metadata (31 kB)\n",
      "Requirement already satisfied: numpy>=1.22.0 in /Users/jeroen/.virtualenvs/cve-analysis/lib/python3.12/site-packages (from scikit-learn) (2.3.0)\n",
      "Collecting scipy>=1.8.0 (from scikit-learn)\n",
      "  Downloading scipy-1.15.3-cp312-cp312-macosx_14_0_arm64.whl.metadata (61 kB)\n",
      "Collecting joblib>=1.2.0 (from scikit-learn)\n",
      "  Downloading joblib-1.5.1-py3-none-any.whl.metadata (5.6 kB)\n",
      "Collecting threadpoolctl>=3.1.0 (from scikit-learn)\n",
      "  Downloading threadpoolctl-3.6.0-py3-none-any.whl.metadata (13 kB)\n",
      "Downloading scikit_learn-1.7.0-cp312-cp312-macosx_12_0_arm64.whl (10.7 MB)\n",
      "\u001b[2K   \u001b[38;2;114;156;31m━━━━━━━━━━━━━━━━━━━━━━━━━━━━━━━━━━━━━━━━\u001b[0m \u001b[32m10.7/10.7 MB\u001b[0m \u001b[31m33.4 MB/s\u001b[0m eta \u001b[36m0:00:00\u001b[0m1m29.9 MB/s\u001b[0m eta \u001b[36m0:00:01\u001b[0m\n",
      "\u001b[?25hDownloading joblib-1.5.1-py3-none-any.whl (307 kB)\n",
      "Downloading scipy-1.15.3-cp312-cp312-macosx_14_0_arm64.whl (22.4 MB)\n",
      "\u001b[2K   \u001b[38;2;114;156;31m━━━━━━━━━━━━━━━━━━━━━━━━━━━━━━━━━━━━━━━━\u001b[0m \u001b[32m22.4/22.4 MB\u001b[0m \u001b[31m34.6 MB/s\u001b[0m eta \u001b[36m0:00:00\u001b[0mm eta \u001b[36m0:00:01\u001b[0m[36m0:00:01\u001b[0m\n",
      "\u001b[?25hDownloading threadpoolctl-3.6.0-py3-none-any.whl (18 kB)\n",
      "Installing collected packages: threadpoolctl, scipy, joblib, scikit-learn\n",
      "\u001b[2K   \u001b[38;2;114;156;31m━━━━━━━━━━━━━━━━━━━━━━━━━━━━━━━━━━━━━━━━\u001b[0m \u001b[32m4/4\u001b[0m [scikit-learn]0m \u001b[32m3/4\u001b[0m [scikit-learn]\n",
      "\u001b[1A\u001b[2KSuccessfully installed joblib-1.5.1 scikit-learn-1.7.0 scipy-1.15.3 threadpoolctl-3.6.0\n"
     ]
    }
   ],
   "source": [
    "# Install the missing jq module\n",
    "!pip install jq\n",
    "\n",
    "# Install the missing sklearn module\n",
    "!pip install scikit-learn\n",
    "\n",
    "# Re-run the imports\n",
    "import requests\n",
    "import gzip as gz\n",
    "import shutil\n",
    "import pandas as pd\n",
    "import json\n",
    "import datetime\n",
    "import tqdm\n",
    "import os\n",
    "import jq\n",
    "import json\n",
    "import itertools\n",
    "import numpy as np\n",
    "import datetime\n",
    "from sklearn.metrics import mean_absolute_error as mae\n",
    "from sklearn.metrics import mean_absolute_percentage_error as mape\n",
    "import re\n",
    "from pandas.plotting import autocorrelation_plot"
   ]
  },
  {
   "cell_type": "markdown",
   "metadata": {
    "cell_id": "70958a7a9f054bec94ecbbad4286772a",
    "deepnote_cell_type": "markdown",
    "id": "HaE6Q136LzU2"
   },
   "source": [
    "The folders where we will store the data as a gzip, and as a json need to be created."
   ]
  },
  {
   "cell_type": "code",
   "execution_count": 3,
   "metadata": {
    "cell_id": "7d334e4266714d789c75ea56c63b8945",
    "deepnote_cell_type": "code",
    "execution_context_id": "e1d7fc6f-c71c-4e3a-833b-f7b9b55a59d9",
    "execution_millis": 1,
    "execution_start": 1750164876279,
    "id": "DMJg36yV7NU6",
    "source_hash": "198efbd9"
   },
   "outputs": [],
   "source": [
    "file_exists = os.path.exists('CVE-NVD')\n",
    "if not file_exists:\n",
    "  os.mkdir('CVE-NVD')\n",
    "  os.mkdir('CVE-NVD/GZIP')\n",
    "  os.mkdir('CVE-NVD/JSON')"
   ]
  },
  {
   "cell_type": "markdown",
   "metadata": {
    "cell_id": "89d4167b08ab45d1bb19c7b91737684a",
    "deepnote_cell_type": "markdown",
    "id": "lqd6pK-_y3V2"
   },
   "source": [
    "Let's also setup some other folders for MITRE's advance views of CVE data."
   ]
  },
  {
   "cell_type": "code",
   "execution_count": 4,
   "metadata": {
    "cell_id": "70b33e727637426186601242656e14ac",
    "deepnote_cell_type": "code",
    "execution_context_id": "e1d7fc6f-c71c-4e3a-833b-f7b9b55a59d9",
    "execution_millis": 2,
    "execution_start": 1750164879951,
    "id": "FgvWYE3HVV1J",
    "source_hash": "e04477c6"
   },
   "outputs": [],
   "source": [
    "file_exists = os.path.exists('CVE-MITRE')\n",
    "if not file_exists:\n",
    "  os.mkdir('CVE-MITRE')\n",
    "  os.mkdir('CVE-MITRE/CSV')"
   ]
  },
  {
   "cell_type": "markdown",
   "metadata": {
    "cell_id": "15acf4ef4330413b92bf7c65c2ec35d9",
    "deepnote_cell_type": "markdown",
    "id": "Peg0lTsMy_g0"
   },
   "source": [
    "# convert datetime obj to string\n",
    "str_current_datetime = str(current_datetime)\n",
    "  \n",
    "# create a file object along with extension\n",
    "file_name = str_current_datetime+\".txt\"# Download the CVE data from NVD and MITRE"
   ]
  },
  {
   "cell_type": "markdown",
   "metadata": {
    "cell_id": "d556c8dbba13436f9577fa86603ddff7",
    "deepnote_cell_type": "markdown",
    "id": "d_nZqbNCS4vE"
   },
   "source": [
    "Now we'll download the NVD data for every year since 1999. Don't worry it's faster than you think.  \n",
    "PROTIP: The progress bar comes for free from the tqdm package. Just wrap a for loop in tqdm.tqdm() it and you get a progress bar for free.\n",
    "Now after this tutorial if you keep this notebook, you'll always be able to fetch all this CVE data easily. Handy for many more things than just forecasting."
   ]
  },
  {
   "cell_type": "code",
   "execution_count": 5,
   "metadata": {
    "cell_id": "534d072b5bd440979a6ade466764f631",
    "colab": {
     "base_uri": "https://localhost:8080/"
    },
    "deepnote_cell_type": "code",
    "execution_context_id": "e1d7fc6f-c71c-4e3a-833b-f7b9b55a59d9",
    "execution_millis": 646699,
    "execution_start": 1750165317335,
    "id": "mhHNC2b87SNZ",
    "outputId": "13c13822-b8ef-45a4-a463-8c0acd1e4837",
    "source_hash": "463d00fb"
   },
   "outputs": [],
   "source": [
    "import time\n",
    "import requests\n",
    "import os\n",
    "import tqdm\n",
    "\n",
    "# Placeholder for your API key\n",
    "API_KEY = \"\"\n",
    "\n",
    "# Base URL for the NVD API\n",
    "BASE_URL = \"https://services.nvd.nist.gov/rest/json/cves/2.0\"\n",
    "\n",
    "# Create directories if they don't exist\n",
    "file_exists = os.path.exists('CVE-NVD')\n",
    "if not file_exists:\n",
    "    os.mkdir('CVE-NVD')\n",
    "    os.mkdir('CVE-NVD/JSON')\n",
    "\n",
    "# Rate limit: 50 requests per 30 seconds\n",
    "RATE_LIMIT = 50\n",
    "RATE_LIMIT_WINDOW = 30  # seconds\n",
    "\n",
    "# Counter for requests\n",
    "request_count = 0\n",
    "start_time = time.time()\n",
    "\n",
    "# Pagination parameters\n",
    "start_index = 0\n",
    "results_per_page = 2000  # Maximum allowed by the API\n",
    "\n",
    "while True:\n",
    "    params = {\n",
    "        \"startIndex\": start_index,\n",
    "        \"resultsPerPage\": results_per_page,\n",
    "    }\n",
    "    headers = {'apiKey': API_KEY}\n",
    "\n",
    "    response = requests.get(BASE_URL, params=params, headers=headers)\n",
    "\n",
    "    # Rate limiting logic\n",
    "    request_count += 1\n",
    "    if request_count >= RATE_LIMIT:\n",
    "        elapsed_time = time.time() - start_time\n",
    "        if elapsed_time < RATE_LIMIT_WINDOW:\n",
    "            time.sleep(RATE_LIMIT_WINDOW - elapsed_time)\n",
    "        request_count = 0\n",
    "        start_time = time.time()\n",
    "\n",
    "    if response.status_code == 200:\n",
    "        data = response.json()\n",
    "        total_results = data.get(\"totalResults\", 0)\n",
    "\n",
    "        # Save the current page of results\n",
    "        with open(f'CVE-NVD/JSON/cve_data_{start_index}.json', 'w') as f:\n",
    "            f.write(response.text)\n",
    "\n",
    "        # Check if we have fetched all results\n",
    "        if start_index + results_per_page >= total_results:\n",
    "            break\n",
    "\n",
    "        # Update the start index for the next page\n",
    "        start_index += results_per_page\n",
    "    else:\n",
    "        print(f\"Failed to fetch data: {response.status_code}\")\n",
    "        break"
   ]
  },
  {
   "cell_type": "markdown",
   "metadata": {
    "cell_id": "dd0356d97ddd4aefa1948c3dceb414cf",
    "deepnote_cell_type": "markdown",
    "id": "MsUxquJB2Am4"
   },
   "source": [
    "# Convert the data to panda dataframes and csv files"
   ]
  },
  {
   "cell_type": "markdown",
   "metadata": {
    "cell_id": "95a1cd775e5d41a0b27577e195a34513",
    "deepnote_cell_type": "markdown",
    "id": "nHa3etpy2YJT"
   },
   "source": [
    "Here we start to use JQ to make queiries specific to CVE json structure. We pull out the CVE-ID, the published date, the assigner, and the CVSSv2 base score."
   ]
  },
  {
   "cell_type": "code",
   "execution_count": 39,
   "metadata": {
    "cell_id": "2d4175e5adbf493f874c8bea37369c8e",
    "deepnote_cell_type": "code",
    "execution_context_id": "e1d7fc6f-c71c-4e3a-833b-f7b9b55a59d9",
    "execution_millis": 455,
    "execution_start": 1750168693999,
    "source_hash": "20785c3d"
   },
   "outputs": [
    {
     "name": "stderr",
     "output_type": "stream",
     "text": [
      "Processing Files: 100%|███████████████████████████████████████████████████████████████████████████| 150/150 [01:00<00:00,  2.48file/s]\n"
     ]
    },
    {
     "name": "stdout",
     "output_type": "stream",
     "text": [
      "           cve_id                published          sourceIdentifier  \\\n",
      "0  CVE-2024-35296  2024-07-26T10:15:02.713       security@apache.org   \n",
      "1  CVE-2024-41684  2024-07-26T12:15:02.763  vdisclose@cert-in.org.in   \n",
      "2  CVE-2024-41685  2024-07-26T12:15:02.977  vdisclose@cert-in.org.in   \n",
      "3  CVE-2024-41686  2024-07-26T12:15:03.113  vdisclose@cert-in.org.in   \n",
      "4  CVE-2024-41687  2024-07-26T12:15:03.250  vdisclose@cert-in.org.in   \n",
      "\n",
      "                                         description  cvss_v2_score  \\\n",
      "0  Invalid Accept-Encoding header can cause Apach...            NaN   \n",
      "1  This vulnerability exists in SyroTech SY-GPON-...            NaN   \n",
      "2  This vulnerability exists in SyroTech SY-GPON-...            NaN   \n",
      "3  This vulnerability exists in SyroTech SY-GPON-...            NaN   \n",
      "4  This vulnerability exists in SyroTech SY-GPON-...            NaN   \n",
      "\n",
      "   cvss_v2_exploitability_score cvss_v2_vector  cvss_v3_score  \\\n",
      "0                           NaN           None            8.2   \n",
      "1                           NaN           None            5.3   \n",
      "2                           NaN           None            7.5   \n",
      "3                           NaN           None            3.3   \n",
      "4                           NaN           None            7.5   \n",
      "\n",
      "   cvss_v3_exploitability_score                                cvss_v3_vector  \\\n",
      "0                           3.9  CVSS:3.1/AV:N/AC:L/PR:N/UI:N/S:U/C:N/I:H/A:L   \n",
      "1                           3.9  CVSS:3.1/AV:N/AC:L/PR:N/UI:N/S:U/C:L/I:N/A:N   \n",
      "2                           3.9  CVSS:3.1/AV:N/AC:L/PR:N/UI:N/S:U/C:H/I:N/A:N   \n",
      "3                           1.8  CVSS:3.1/AV:L/AC:L/PR:L/UI:N/S:U/C:N/I:L/A:N   \n",
      "4                           3.9  CVSS:3.1/AV:N/AC:L/PR:N/UI:N/S:U/C:H/I:N/A:N   \n",
      "\n",
      "                                        cpe_criteria                      cwe  \n",
      "0  cpe:2.3:a:apache:traffic_server:*:*:*:*:*:*:*:...   CWE-20, NVD-CWE-noinfo  \n",
      "1  cpe:2.3:o:syrotech:sy-gpon-1110-wdont_firmware...   CWE-614, NVD-CWE-Other  \n",
      "2  cpe:2.3:o:syrotech:sy-gpon-1110-wdont_firmware...        CWE-1004, CWE-732  \n",
      "3  cpe:2.3:o:syrotech:sy-gpon-1110-wdont_firmware...  CWE-179, NVD-CWE-noinfo  \n",
      "4  cpe:2.3:o:syrotech:sy-gpon-1110-wdont_firmware...         CWE-319, CWE-319  \n"
     ]
    }
   ],
   "source": [
    "# Combined jq query to extract all relevant vulnerability data\n",
    "vuln_query = jq.compile(\"\"\"\n",
    "  .vulnerabilities[] | {\n",
    "    cve_id: .cve.id,\n",
    "    published: .cve.published,\n",
    "    sourceIdentifier: .cve.sourceIdentifier,\n",
    "    description: [.cve.descriptions[].value],\n",
    "    cvss_v2_score: (if .cve.metrics.cvssMetricV2 and (.cve.metrics.cvssMetricV2 | length > 0) \n",
    "                     then .cve.metrics.cvssMetricV2[0].cvssData.baseScore \n",
    "                     else null end),\n",
    "    cvss_v2_exploitability_score: (if .cve.metrics.cvssMetricV2 and (.cve.metrics.cvssMetricV2 | length > 0) \n",
    "                                    then .cve.metrics.cvssMetricV2[0].exploitabilityScore \n",
    "                                    else null end),\n",
    "    cvss_v2_vector: (if .cve.metrics.cvssMetricV2 and (.cve.metrics.cvssMetricV2 | length > 0) \n",
    "                     then .cve.metrics.cvssMetricV2[0].cvssData.vectorString \n",
    "                     else null end),\n",
    "    cvss_v3_score: (if .cve.metrics.cvssMetricV31 and (.cve.metrics.cvssMetricV31 | length > 0) \n",
    "                     then .cve.metrics.cvssMetricV31[0].cvssData.baseScore\n",
    "                     elif .cve.metrics.cvssMetricV30 and (.cve.metrics.cvssMetricV30 | length > 0) \n",
    "                     then .cve.metrics.cvssMetricV30[0].cvssData.baseScore \n",
    "                     else null end),\n",
    "    cvss_v3_exploitability_score: (if .cve.metrics.cvssMetricV31 and (.cve.metrics.cvssMetricV31 | length > 0) \n",
    "                                    then .cve.metrics.cvssMetricV31[0].exploitabilityScore \n",
    "                                    elif .cve.metrics.cvssMetricV30 and (.cve.metrics.cvssMetricV30 | length > 0) \n",
    "                                    then .cve.metrics.cvssMetricV30[0].exploitabilityScore \n",
    "                                    else null end),\n",
    "    cvss_v3_vector: (if .cve.metrics.cvssMetricV31 and (.cve.metrics.cvssMetricV31 | length > 0) \n",
    "                     then .cve.metrics.cvssMetricV31[0].cvssData.vectorString \n",
    "                     elif .cve.metrics.cvssMetricV30 and (.cve.metrics.cvssMetricV30 | length > 0) \n",
    "                     then .cve.metrics.cvssMetricV30[0].cvssData.vectorString \n",
    "                     else null end),\n",
    "    cpe_criteria: [.cve.configurations[]?.nodes[].cpeMatch[]? | select(.vulnerable == true) | .criteria],\n",
    "    cwe: [.cve.weaknesses[]?.description[].value]\n",
    "  }\n",
    "\"\"\")\n",
    "\n",
    "# Function to process a single file and extract vulnerabilities\n",
    "def process_file(file_path):\n",
    "    with open(file_path, 'r') as f:\n",
    "        data = json.load(f)  # Load the JSON data from the file\n",
    "    \n",
    "    # Apply the jq query to extract vulnerabilities\n",
    "    vuln_data = vuln_query.input(data).all()  # List of dictionaries for each vulnerability\n",
    "    \n",
    "    return vuln_data\n",
    "\n",
    "# Function to process multiple files in a directory with progress bar\n",
    "def process_directory(directory_path):\n",
    "    all_vulns = []  # List to hold vulnerabilities from all files\n",
    "    json_files = [f for f in os.listdir(directory_path) if f.endswith('.json')]  # Filter JSON files\n",
    "    \n",
    "    # Use tqdm to create a progress bar for file processing\n",
    "    for filename in tqdm.tqdm(json_files, desc=\"Processing Files\", unit=\"file\"):\n",
    "        file_path = os.path.join(directory_path, filename)\n",
    "        \n",
    "        # Process each file\n",
    "        vuln_data = process_file(file_path)\n",
    "        all_vulns.extend(vuln_data)  # Append the extracted data from this file\n",
    "    \n",
    "    # Return a list of all vulnerabilities found\n",
    "    return all_vulns\n",
    "\n",
    "# Define the directory where your JSON files are stored\n",
    "json_dir = 'CVE-NVD/JSON/'\n",
    "\n",
    "# Process all JSON files in the directory\n",
    "vulnerabilities = process_directory(json_dir)\n",
    "\n",
    "# Convert the list of dictionaries to a pandas DataFrame\n",
    "df = pd.DataFrame(vulnerabilities)\n",
    "\n",
    "# Optional: Clean up list-based fields (like 'description', 'cpe_criteria', 'cwe')\n",
    "df['description'] = df['description'].apply(lambda x: ', '.join(x) if isinstance(x, list) else '')\n",
    "df['cpe_criteria'] = df['cpe_criteria'].apply(lambda x: ', '.join(x) if isinstance(x, list) else '')\n",
    "df['cwe'] = df['cwe'].apply(lambda x: ', '.join(x) if isinstance(x, list) else '')\n",
    "\n",
    "# Show the first few rows of the DataFrame\n",
    "print(df.head())\n"
   ]
  },
  {
   "cell_type": "markdown",
   "metadata": {
    "cell_id": "64cc28bc32dc4dbdb4631547940dc232",
    "deepnote_cell_type": "markdown",
    "id": "sgzeBTCf2w1R"
   },
   "source": [
    "Save all the data we just filtered to a CSV file, for future use."
   ]
  },
  {
   "cell_type": "code",
   "execution_count": 40,
   "metadata": {
    "cell_id": "596c9693f2e041358ea93abb79d43064",
    "colab": {
     "background_save": true
    },
    "deepnote_cell_type": "code",
    "execution_context_id": "e1d7fc6f-c71c-4e3a-833b-f7b9b55a59d9",
    "execution_millis": 10777,
    "execution_start": 1750173362949,
    "id": "d5a634b0",
    "source_hash": "ec630164"
   },
   "outputs": [],
   "source": [
    "all_items.sort_index()\n",
    "all_items.to_csv('NVD-Vulnerability-Volumes.csv')"
   ]
  },
  {
   "cell_type": "markdown",
   "metadata": {
    "cell_id": "9fa57331b707401d8c6ce521159bff03",
    "deepnote_cell_type": "markdown"
   },
   "source": [
    "# Now we want to clone this data frame and explode the cpe column so we can do vendor and product forecast"
   ]
  },
  {
   "cell_type": "code",
   "execution_count": 41,
   "metadata": {
    "cell_id": "841327e7cd344359a7521342a24bcd1e",
    "deepnote_cell_type": "code",
    "execution_context_id": "e1d7fc6f-c71c-4e3a-833b-f7b9b55a59d9",
    "execution_millis": 2,
    "execution_start": 1750173382722,
    "source_hash": "6c2a7e4c"
   },
   "outputs": [],
   "source": [
    "def process_cpe_dataframe(df):\n",
    "    # Remove CVE-ID from lists and explode\n",
    "    df['v2.3 CPE'] = df['v2.3 CPE'].str[1:]\n",
    "    df = df.explode('v2.3 CPE')\n",
    "    \n",
    "    def extract_cpe_parts(cpe_str):\n",
    "        if pd.isna(cpe_str):\n",
    "            return pd.Series({\n",
    "                'Part': None, 'Vendor': None, 'Product': None,\n",
    "                'Version': None, 'Update': None, 'Edition': None,\n",
    "                'Language': None, 'SW_Edition': None, 'Target_SW': None,\n",
    "                'Target_HW': None, 'Other': None\n",
    "            })\n",
    "        \n",
    "        cpe_str = cpe_str.strip('\"')\n",
    "        parts = cpe_str.split(':')\n",
    "        \n",
    "        # Ensure we have enough parts\n",
    "        if len(parts) >= 13:\n",
    "            return pd.Series({\n",
    "                'Part': parts[2],\n",
    "                'Vendor': parts[4],\n",
    "                'Product': parts[5],\n",
    "                'Version': parts[6],\n",
    "                'Update': parts[7],\n",
    "                'Edition': parts[8],\n",
    "                'Language': parts[9],\n",
    "                'SW_Edition': parts[10],\n",
    "                'Target_SW': parts[11],\n",
    "                'Target_HW': parts[12],\n",
    "                'Other': parts[13] if len(parts) > 13 else None\n",
    "            })\n",
    "        return pd.Series({\n",
    "            'Part': None, 'Vendor': None, 'Product': None,\n",
    "            'Version': None, 'Update': None, 'Edition': None,\n",
    "            'Language': None, 'SW_Edition': None, 'Target_SW': None,\n",
    "            'Target_HW': None, 'Other': None\n",
    "        })\n",
    "    \n",
    "    # Apply the extraction and create new columns\n",
    "    df[['Part', 'Vendor', 'Product', 'Version', 'Update', \n",
    "        'Edition', 'Language', 'SW_Edition', 'Target_SW',\n",
    "        'Target_HW', 'Other']] = df['v2.3 CPE'].apply(extract_cpe_parts)\n",
    "    \n",
    "    return df"
   ]
  },
  {
   "cell_type": "code",
   "execution_count": 42,
   "metadata": {
    "cell_id": "b42041698cdb42608eea3485edbe6bcc",
    "deepnote_cell_type": "code",
    "execution_context_id": "e1d7fc6f-c71c-4e3a-833b-f7b9b55a59d9",
    "execution_millis": 103577,
    "execution_start": 1750173387617,
    "source_hash": "e35aaebc"
   },
   "outputs": [],
   "source": [
    "cpe_df = process_cpe_dataframe(all_items)"
   ]
  },
  {
   "cell_type": "code",
   "execution_count": 43,
   "metadata": {
    "cell_id": "45b09dea406440959c01adbd632dc790",
    "deepnote_cell_type": "code",
    "execution_context_id": "e1d7fc6f-c71c-4e3a-833b-f7b9b55a59d9",
    "execution_millis": 11624,
    "execution_start": 1750173827659,
    "source_hash": "a4f9a5ef"
   },
   "outputs": [],
   "source": [
    "cpe_df.to_csv('Vendor-Product-Vulnerability-Volumes.csv')"
   ]
  },
  {
   "cell_type": "markdown",
   "metadata": {
    "cell_id": "d92cf8c8efd44f6aa270f3013cff9108",
    "deepnote_cell_type": "markdown",
    "id": "fEoLX86f2727"
   },
   "source": [
    "If you want to read that file in the future, without fetching all the data again, just uncoment the cell below."
   ]
  },
  {
   "cell_type": "code",
   "execution_count": 44,
   "metadata": {
    "cell_id": "c19dd60e80044d01ad6da0d0cc61fc6e",
    "colab": {
     "background_save": true
    },
    "deepnote_cell_type": "code",
    "deepnote_to_be_reexecuted": true,
    "id": "2d2a5b2e",
    "outputId": "955e5b09-f4da-4c1c-cdca-92930b5fac07"
   },
   "outputs": [],
   "source": [
    "#all_items = pd.read_csv('NVD-Vulnerability-Volumes.csv',index_col=['Publication'],parse_dates=['Publication'], low_memory=False)\n",
    "#all_items = all_items.sort_index()"
   ]
  },
  {
   "cell_type": "code",
   "execution_count": 45,
   "metadata": {
    "cell_id": "f3b353a42baf4a8798473f53ca5266c9",
    "deepnote_cell_type": "code",
    "execution_context_id": "e1d7fc6f-c71c-4e3a-833b-f7b9b55a59d9",
    "execution_millis": 2,
    "execution_start": 1750173760974,
    "source_hash": "455433fd"
   },
   "outputs": [
    {
     "data": {
      "text/html": [
       "<div>\n",
       "<style scoped>\n",
       "    .dataframe tbody tr th:only-of-type {\n",
       "        vertical-align: middle;\n",
       "    }\n",
       "\n",
       "    .dataframe tbody tr th {\n",
       "        vertical-align: top;\n",
       "    }\n",
       "\n",
       "    .dataframe thead th {\n",
       "        text-align: right;\n",
       "    }\n",
       "</style>\n",
       "<table border=\"1\" class=\"dataframe\">\n",
       "  <thead>\n",
       "    <tr style=\"text-align: right;\">\n",
       "      <th></th>\n",
       "      <th>ID</th>\n",
       "      <th>ASSIGNER</th>\n",
       "      <th>DESCRIPTION</th>\n",
       "      <th>Count</th>\n",
       "      <th>v2 CVSS</th>\n",
       "      <th>v2 Vector</th>\n",
       "      <th>v2 Exploitability Score</th>\n",
       "      <th>v3 CVSS</th>\n",
       "      <th>v3 Vector</th>\n",
       "      <th>v3 Exploitability Score</th>\n",
       "      <th>CWE</th>\n",
       "      <th>v2.3 CPE</th>\n",
       "    </tr>\n",
       "    <tr>\n",
       "      <th>Publication</th>\n",
       "      <th></th>\n",
       "      <th></th>\n",
       "      <th></th>\n",
       "      <th></th>\n",
       "      <th></th>\n",
       "      <th></th>\n",
       "      <th></th>\n",
       "      <th></th>\n",
       "      <th></th>\n",
       "      <th></th>\n",
       "      <th></th>\n",
       "      <th></th>\n",
       "    </tr>\n",
       "  </thead>\n",
       "  <tbody>\n",
       "    <tr>\n",
       "      <th>2017-12-06 14:29:00.957</th>\n",
       "      <td>\"CVE-2017-13154\"</td>\n",
       "      <td>\"security@android.com\"</td>\n",
       "      <td>\"An elevation of privilege vulnerability in th...</td>\n",
       "      <td>1.0</td>\n",
       "      <td>[7.2, 7.2, 7.8, 7.8, 7.8, 10, 4.6, 9.3, 4.6, 5...</td>\n",
       "      <td>[\"AV:L/AC:L/Au:N/C:C/I:C/A:C\", \"AV:L/AC:L/Au:N...</td>\n",
       "      <td>[3.9, 3.9, 10, 10, 10, 10, 3.9, 8.6, 3.9, 10, ...</td>\n",
       "      <td>[7.8, 7.8, 7.5, 7.5, 7.5, 9.8, 7.8, 7.8, 7.8, ...</td>\n",
       "      <td>[\"CVSS:3.0/AV:L/AC:L/PR:L/UI:N/S:U/C:H/I:H/A:H...</td>\n",
       "      <td>[1.8, 1.8, 3.9, 3.9, 3.9, 3.9, 1.8, 1.8, 1.8, ...</td>\n",
       "      <td>[\"CWE-416\", \"CWE-434\", \"CWE-200\", \"CWE-200\", \"...</td>\n",
       "      <td>[]</td>\n",
       "    </tr>\n",
       "    <tr>\n",
       "      <th>2017-12-06 14:29:01.003</th>\n",
       "      <td>\"CVE-2017-13156\"</td>\n",
       "      <td>\"security@android.com\"</td>\n",
       "      <td>\"Existe una vulnerabilidad de elevaci\\u00f3n d...</td>\n",
       "      <td>1.0</td>\n",
       "      <td>NaN</td>\n",
       "      <td>NaN</td>\n",
       "      <td>NaN</td>\n",
       "      <td>NaN</td>\n",
       "      <td>NaN</td>\n",
       "      <td>NaN</td>\n",
       "      <td>NaN</td>\n",
       "      <td>[]</td>\n",
       "    </tr>\n",
       "    <tr>\n",
       "      <th>2017-12-06 14:29:01.037</th>\n",
       "      <td>\"CVE-2017-13157\"</td>\n",
       "      <td>\"security@android.com\"</td>\n",
       "      <td>\"An elevation of privilege vulnerability in th...</td>\n",
       "      <td>1.0</td>\n",
       "      <td>NaN</td>\n",
       "      <td>NaN</td>\n",
       "      <td>NaN</td>\n",
       "      <td>NaN</td>\n",
       "      <td>NaN</td>\n",
       "      <td>NaN</td>\n",
       "      <td>NaN</td>\n",
       "      <td>[]</td>\n",
       "    </tr>\n",
       "    <tr>\n",
       "      <th>2017-12-06 14:29:01.067</th>\n",
       "      <td>\"CVE-2017-13158\"</td>\n",
       "      <td>\"security@android.com\"</td>\n",
       "      <td>\"Existe una vulnerabilidad de elevaci\\u00f3n d...</td>\n",
       "      <td>1.0</td>\n",
       "      <td>NaN</td>\n",
       "      <td>NaN</td>\n",
       "      <td>NaN</td>\n",
       "      <td>NaN</td>\n",
       "      <td>NaN</td>\n",
       "      <td>NaN</td>\n",
       "      <td>NaN</td>\n",
       "      <td>[]</td>\n",
       "    </tr>\n",
       "    <tr>\n",
       "      <th>2017-12-06 14:29:01.113</th>\n",
       "      <td>\"CVE-2017-13159\"</td>\n",
       "      <td>\"security@android.com\"</td>\n",
       "      <td>\"An information disclosure vulnerability in th...</td>\n",
       "      <td>1.0</td>\n",
       "      <td>NaN</td>\n",
       "      <td>NaN</td>\n",
       "      <td>NaN</td>\n",
       "      <td>NaN</td>\n",
       "      <td>NaN</td>\n",
       "      <td>NaN</td>\n",
       "      <td>NaN</td>\n",
       "      <td>[]</td>\n",
       "    </tr>\n",
       "  </tbody>\n",
       "</table>\n",
       "</div>"
      ],
      "text/plain": [
       "                                       ID                ASSIGNER  \\\n",
       "Publication                                                         \n",
       "2017-12-06 14:29:00.957  \"CVE-2017-13154\"  \"security@android.com\"   \n",
       "2017-12-06 14:29:01.003  \"CVE-2017-13156\"  \"security@android.com\"   \n",
       "2017-12-06 14:29:01.037  \"CVE-2017-13157\"  \"security@android.com\"   \n",
       "2017-12-06 14:29:01.067  \"CVE-2017-13158\"  \"security@android.com\"   \n",
       "2017-12-06 14:29:01.113  \"CVE-2017-13159\"  \"security@android.com\"   \n",
       "\n",
       "                                                               DESCRIPTION  \\\n",
       "Publication                                                                  \n",
       "2017-12-06 14:29:00.957  \"An elevation of privilege vulnerability in th...   \n",
       "2017-12-06 14:29:01.003  \"Existe una vulnerabilidad de elevaci\\u00f3n d...   \n",
       "2017-12-06 14:29:01.037  \"An elevation of privilege vulnerability in th...   \n",
       "2017-12-06 14:29:01.067  \"Existe una vulnerabilidad de elevaci\\u00f3n d...   \n",
       "2017-12-06 14:29:01.113  \"An information disclosure vulnerability in th...   \n",
       "\n",
       "                         Count  \\\n",
       "Publication                      \n",
       "2017-12-06 14:29:00.957    1.0   \n",
       "2017-12-06 14:29:01.003    1.0   \n",
       "2017-12-06 14:29:01.037    1.0   \n",
       "2017-12-06 14:29:01.067    1.0   \n",
       "2017-12-06 14:29:01.113    1.0   \n",
       "\n",
       "                                                                   v2 CVSS  \\\n",
       "Publication                                                                  \n",
       "2017-12-06 14:29:00.957  [7.2, 7.2, 7.8, 7.8, 7.8, 10, 4.6, 9.3, 4.6, 5...   \n",
       "2017-12-06 14:29:01.003                                                NaN   \n",
       "2017-12-06 14:29:01.037                                                NaN   \n",
       "2017-12-06 14:29:01.067                                                NaN   \n",
       "2017-12-06 14:29:01.113                                                NaN   \n",
       "\n",
       "                                                                 v2 Vector  \\\n",
       "Publication                                                                  \n",
       "2017-12-06 14:29:00.957  [\"AV:L/AC:L/Au:N/C:C/I:C/A:C\", \"AV:L/AC:L/Au:N...   \n",
       "2017-12-06 14:29:01.003                                                NaN   \n",
       "2017-12-06 14:29:01.037                                                NaN   \n",
       "2017-12-06 14:29:01.067                                                NaN   \n",
       "2017-12-06 14:29:01.113                                                NaN   \n",
       "\n",
       "                                                   v2 Exploitability Score  \\\n",
       "Publication                                                                  \n",
       "2017-12-06 14:29:00.957  [3.9, 3.9, 10, 10, 10, 10, 3.9, 8.6, 3.9, 10, ...   \n",
       "2017-12-06 14:29:01.003                                                NaN   \n",
       "2017-12-06 14:29:01.037                                                NaN   \n",
       "2017-12-06 14:29:01.067                                                NaN   \n",
       "2017-12-06 14:29:01.113                                                NaN   \n",
       "\n",
       "                                                                   v3 CVSS  \\\n",
       "Publication                                                                  \n",
       "2017-12-06 14:29:00.957  [7.8, 7.8, 7.5, 7.5, 7.5, 9.8, 7.8, 7.8, 7.8, ...   \n",
       "2017-12-06 14:29:01.003                                                NaN   \n",
       "2017-12-06 14:29:01.037                                                NaN   \n",
       "2017-12-06 14:29:01.067                                                NaN   \n",
       "2017-12-06 14:29:01.113                                                NaN   \n",
       "\n",
       "                                                                 v3 Vector  \\\n",
       "Publication                                                                  \n",
       "2017-12-06 14:29:00.957  [\"CVSS:3.0/AV:L/AC:L/PR:L/UI:N/S:U/C:H/I:H/A:H...   \n",
       "2017-12-06 14:29:01.003                                                NaN   \n",
       "2017-12-06 14:29:01.037                                                NaN   \n",
       "2017-12-06 14:29:01.067                                                NaN   \n",
       "2017-12-06 14:29:01.113                                                NaN   \n",
       "\n",
       "                                                   v3 Exploitability Score  \\\n",
       "Publication                                                                  \n",
       "2017-12-06 14:29:00.957  [1.8, 1.8, 3.9, 3.9, 3.9, 3.9, 1.8, 1.8, 1.8, ...   \n",
       "2017-12-06 14:29:01.003                                                NaN   \n",
       "2017-12-06 14:29:01.037                                                NaN   \n",
       "2017-12-06 14:29:01.067                                                NaN   \n",
       "2017-12-06 14:29:01.113                                                NaN   \n",
       "\n",
       "                                                                       CWE  \\\n",
       "Publication                                                                  \n",
       "2017-12-06 14:29:00.957  [\"CWE-416\", \"CWE-434\", \"CWE-200\", \"CWE-200\", \"...   \n",
       "2017-12-06 14:29:01.003                                                NaN   \n",
       "2017-12-06 14:29:01.037                                                NaN   \n",
       "2017-12-06 14:29:01.067                                                NaN   \n",
       "2017-12-06 14:29:01.113                                                NaN   \n",
       "\n",
       "                        v2.3 CPE  \n",
       "Publication                       \n",
       "2017-12-06 14:29:00.957       []  \n",
       "2017-12-06 14:29:01.003       []  \n",
       "2017-12-06 14:29:01.037       []  \n",
       "2017-12-06 14:29:01.067       []  \n",
       "2017-12-06 14:29:01.113       []  "
      ]
     },
     "execution_count": 45,
     "metadata": {},
     "output_type": "execute_result"
    }
   ],
   "source": [
    "all_items.head()"
   ]
  },
  {
   "cell_type": "markdown",
   "metadata": {
    "created_in_deepnote_cell": true,
    "deepnote_cell_type": "markdown"
   },
   "source": [
    "<a style='text-decoration:none;line-height:16px;display:flex;color:#5B5B62;padding:10px;justify-content:end;' href='https://deepnote.com?utm_source=created-in-deepnote-cell&projectId=7acd54e3-f1e9-4bb5-a625-0a781a5b944c' target=\"_blank\">\n",
    "<img alt='Created in deepnote.com' style='display:inline;max-height:16px;margin:0px;margin-right:7.5px;' src='data:image/svg+xml;base64,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' > </img>\n",
    "Created in <span style='font-weight:600;margin-left:4px;'>Deepnote</span></a>"
   ]
  }
 ],
 "metadata": {
  "deepnote_notebook_id": "c59cd5379beb42e7b4ee5e7bd9a4ca3c",
  "kernelspec": {
   "display_name": "Python 3 (ipykernel)",
   "language": "python",
   "name": "python3"
  },
  "language_info": {
   "codemirror_mode": {
    "name": "ipython",
    "version": 3
   },
   "file_extension": ".py",
   "mimetype": "text/x-python",
   "name": "python",
   "nbconvert_exporter": "python",
   "pygments_lexer": "ipython3",
   "version": "3.12.0"
  }
 },
 "nbformat": 4,
 "nbformat_minor": 4
}
