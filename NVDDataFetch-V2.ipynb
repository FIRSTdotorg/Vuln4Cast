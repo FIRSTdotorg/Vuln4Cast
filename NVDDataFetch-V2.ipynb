{
 "cells": [
  {
   "cell_type": "markdown",
   "id": "tSjJuvKTyjbo",
   "metadata": {
    "id": "tSjJuvKTyjbo"
   },
   "source": [
    "# Setup our vulnerability data science lab environment"
   ]
  },
  {
   "cell_type": "markdown",
   "id": "QVjRIuM97Wv4",
   "metadata": {
    "id": "QVjRIuM97Wv4"
   },
   "source": [
    "First we'll import all the libraries we need. A couple of them need installed first. JQ is a pythonic implementation of jq; a tool for querying json really fast. When looking at 25 years of vulnerabilities it is enormously useful."
   ]
  },
  {
   "cell_type": "code",
   "execution_count": 1,
   "id": "Ac3vLew6N8Ik",
   "metadata": {
    "colab": {
     "base_uri": "https://localhost:8080/"
    },
    "id": "Ac3vLew6N8Ik",
    "outputId": "d82755ff-c8b6-42ce-cb0a-faa60dec1195"
   },
   "outputs": [],
   "source": [
    "#!pip install requests\n",
    "#!pip install hurst\n",
    "#!pip install jq"
   ]
  },
  {
   "cell_type": "code",
   "execution_count": 2,
   "id": "aPf4YVs47Hr3",
   "metadata": {
    "id": "aPf4YVs47Hr3"
   },
   "outputs": [],
   "source": [
    "import requests\n",
    "import gzip as gz\n",
    "import shutil\n",
    "import pandas as pd\n",
    "import json\n",
    "import datetime\n",
    "import tqdm\n",
    "import os\n",
    "import jq\n",
    "import json\n",
    "#import matplotlib.pyplot as plt\n",
    "#plt.rcParams['font.size'] = '22'\n",
    "#plt.rcParams['font.weight'] = 'bold'\n",
    "# Increase size of plot in jupyter\n",
    "#plt.rcParams[\"figure.figsize\"] = (20,12)\n",
    "import itertools\n",
    "#import seaborn as sns\n",
    "import numpy as np\n",
    "import datetime\n",
    "from sklearn.metrics import mean_absolute_error as mae\n",
    "from sklearn.metrics import mean_absolute_percentage_error as mape\n",
    "import re\n",
    "from pandas.plotting import autocorrelation_plot"
   ]
  },
  {
   "cell_type": "markdown",
   "id": "HaE6Q136LzU2",
   "metadata": {
    "id": "HaE6Q136LzU2"
   },
   "source": [
    "The folders where we will store the data as a gzip, and as a json need to be created."
   ]
  },
  {
   "cell_type": "code",
   "execution_count": 3,
   "id": "DMJg36yV7NU6",
   "metadata": {
    "id": "DMJg36yV7NU6"
   },
   "outputs": [],
   "source": [
    "file_exists = os.path.exists('CVE-NVD')\n",
    "if not file_exists:\n",
    "  os.mkdir('CVE-NVD')\n",
    "  os.mkdir('CVE-NVD/GZIP')\n",
    "  os.mkdir('CVE-NVD/JSON')"
   ]
  },
  {
   "cell_type": "markdown",
   "id": "lqd6pK-_y3V2",
   "metadata": {
    "id": "lqd6pK-_y3V2"
   },
   "source": [
    "Let's also setup some other folders for MITRE's advance views of CVE data."
   ]
  },
  {
   "cell_type": "code",
   "execution_count": 4,
   "id": "FgvWYE3HVV1J",
   "metadata": {
    "id": "FgvWYE3HVV1J"
   },
   "outputs": [],
   "source": [
    "file_exists = os.path.exists('CVE-MITRE')\n",
    "if not file_exists:\n",
    "  os.mkdir('CVE-MITRE')\n",
    "  os.mkdir('CVE-MITRE/CSV')"
   ]
  },
  {
   "cell_type": "markdown",
   "id": "Peg0lTsMy_g0",
   "metadata": {
    "id": "Peg0lTsMy_g0"
   },
   "source": [
    "# convert datetime obj to string\n",
    "str_current_datetime = str(current_datetime)\n",
    "  \n",
    "# create a file object along with extension\n",
    "file_name = str_current_datetime+\".txt\"# Download the CVE data from NVD and MITRE"
   ]
  },
  {
   "cell_type": "markdown",
   "id": "d_nZqbNCS4vE",
   "metadata": {
    "id": "d_nZqbNCS4vE"
   },
   "source": [
    "Now we'll download the NVD data for every year since 1999. Don't worry it's faster than you think.  \n",
    "PROTIP: The progress bar comes for free from the tqdm package. Just wrap a for loop in tqdm.tqdm() it and you get a progress bar for free.\n",
    "Now after this tutorial if you keep this notebook, you'll always be able to fetch all this CVE data easily. Handy for many more things than just forecasting."
   ]
  },
  {
   "cell_type": "code",
   "execution_count": 5,
   "id": "mhHNC2b87SNZ",
   "metadata": {
    "colab": {
     "base_uri": "https://localhost:8080/"
    },
    "id": "mhHNC2b87SNZ",
    "outputId": "13c13822-b8ef-45a4-a463-8c0acd1e4837"
   },
   "outputs": [
    {
     "name": "stderr",
     "output_type": "stream",
     "text": [
      "100%|██████████| 27/27 [00:01<00:00, 16.24it/s]\n"
     ]
    }
   ],
   "source": [
    "now = datetime.datetime.now()\n",
    "#PROTIP wrap an iterative loop in python with tqdm.tqdm() and you get a progress bar\n",
    "for i in tqdm.tqdm(range(1999,now.year+1)):\n",
    "    url = 'https://nvd.nist.gov/feeds/json/cve/1.1/nvdcve-1.1-'+str(i)+'.json.gz'\n",
    "    req = requests.get(url, stream=True)\n",
    "    with open('CVE-NVD/GZIP/nvdcve-1.1-'+str(i)+'.json.gz', 'wb') as f:\n",
    "        for chunk in req.iter_content(chunk_size=1024):\n",
    "            if chunk:\n",
    "                f.write(chunk)\n",
    "                f.flush()"
   ]
  },
  {
   "cell_type": "markdown",
   "id": "btOEgkvVTGpV",
   "metadata": {
    "id": "btOEgkvVTGpV"
   },
   "source": [
    "Here we need to decompress all those gzip files so we can work with the data as json files."
   ]
  },
  {
   "cell_type": "code",
   "execution_count": 6,
   "id": "CsOo8_Nv7VSF",
   "metadata": {
    "colab": {
     "base_uri": "https://localhost:8080/"
    },
    "id": "CsOo8_Nv7VSF",
    "outputId": "11f45d40-41a0-47ce-852b-9cf79b0f2dd5"
   },
   "outputs": [
    {
     "name": "stderr",
     "output_type": "stream",
     "text": [
      "100%|██████████| 27/27 [00:10<00:00,  2.53it/s]\n"
     ]
    }
   ],
   "source": [
    "for i in tqdm.tqdm(range(1999,now.year+1)):\n",
    "    with gz.open('CVE-NVD/GZIP/nvdcve-1.1-'+str(i)+'.json.gz', 'rb') as f_in:\n",
    "        with open('CVE-NVD/JSON/nvdcve-1.1-'+str(i)+'.json', 'wb')  as f_out:\n",
    "            shutil.copyfileobj(f_in, f_out)"
   ]
  },
  {
   "cell_type": "markdown",
   "id": "1obZacReVYcn",
   "metadata": {
    "id": "1obZacReVYcn"
   },
   "source": [
    "Now we need to download the MITRE version of CVEs too, which gives us a different kind of information that is useful later. Specifically, it gives us a view of CVEs that didn't make the cut, and some other timestamps we can use to show when CVEs where submitted, as opposed to published. That can help us calculate the rate of publication."
   ]
  },
  {
   "cell_type": "code",
   "execution_count": 7,
   "id": "8zEaEjpIWO5T",
   "metadata": {
    "id": "8zEaEjpIWO5T"
   },
   "outputs": [],
   "source": [
    "url = 'https://cve.mitre.org/data/downloads/allitems.csv'\n",
    "req = requests.get(url, stream=True)\n",
    "now = datetime.datetime.now()\n",
    "with open('CVE-MITRE/CSV/allitems_current.csv', 'wb') as f:\n",
    "    for chunk in req.iter_content(chunk_size=1024):\n",
    "        if chunk:\n",
    "            f.write(chunk)\n",
    "            f.flush()"
   ]
  },
  {
   "cell_type": "markdown",
   "id": "MsUxquJB2Am4",
   "metadata": {
    "id": "MsUxquJB2Am4"
   },
   "source": [
    "# Convert the data to panda dataframes and csv files"
   ]
  },
  {
   "cell_type": "markdown",
   "id": "nHa3etpy2YJT",
   "metadata": {
    "id": "nHa3etpy2YJT"
   },
   "source": [
    "Here we start to use JQ to make queiries specific to CVE json structure. We pull out the CVE-ID, the published date, the assigner, and the CVSSv2 base score."
   ]
  },
  {
   "cell_type": "code",
   "execution_count": 8,
   "id": "Bkc7OhffsWxZ",
   "metadata": {
    "colab": {
     "background_save": true,
     "base_uri": "https://localhost:8080/"
    },
    "id": "Bkc7OhffsWxZ",
    "outputId": "9cb6697c-a620-4723-98f1-f35c079e93d1"
   },
   "outputs": [
    {
     "name": "stderr",
     "output_type": "stream",
     "text": [
      "100%|██████████| 24/24 [11:49<00:00, 29.55s/it]\n"
     ]
    }
   ],
   "source": [
    "cve_id_query = jq.compile(\".CVE_Items[].cve.CVE_data_meta.ID\")\n",
    "cve_publication_query = jq.compile(\".CVE_Items[].publishedDate\")\n",
    "cve_assigner_query = jq.compile(\".CVE_Items[].cve.CVE_data_meta.ASSIGNER\")\n",
    "cve_description_query = jq.compile(\".CVE_Items[].cve.description.description_data[].value\")\n",
    "cvss_v2_score_query = jq.compile(\".CVE_Items[].impact.baseMetricV2.cvssV2.baseScore\")\n",
    "cvss_v2_exploitability_score_query = jq.compile(\".CVE_Items[].impact.baseMetricV2.cvssV2.exploitabilityScore\")\n",
    "cvss_v2_vector_query = jq.compile(\".CVE_Items[].impact.baseMetricV2.cvssV2.vectorString\")\n",
    "cvss_v3_score_query = jq.compile(\".CVE_Items[].impact.baseMetricV3.cvssV3.baseScore\")\n",
    "cvss_v3_exploitability_score_query = jq.compile(\".CVE_Items[].impact.baseMetricV3.cvssV3.exploitabilityScore\")\n",
    "cvss_v3_vector_query = jq.compile(\".CVE_Items[].impact.baseMetricV3.cvssV3.vectorString\")\n",
    "cpe23_query = jq.compile('.CVE_Items[] | [.cve.CVE_data_meta.ID, .configurations.nodes[].cpe_match[].cpe23Uri]')\n",
    "#Product, cpe strings?, cwe\n",
    "cwe_query = jq.compile(\".CVE_Items[].cve.problemtype.problemtype_data[].description[].value\")\n",
    "#Add CVE state in v5, date-assigned, date_requested, date public, product,cpe_string\n",
    "now = datetime.datetime.now()\n",
    "collector = []\n",
    "for i in tqdm.tqdm(range(2002, now.year+1)):\n",
    "    with open('CVE-NVD/JSON/nvdcve-1.1-'+str(i)+'.json') as json_file:\n",
    "        try:\n",
    "            data = json.load(json_file)\n",
    "        except:\n",
    "            continue\n",
    "        pubs = cve_publication_query.input(data).text()\n",
    "        pubs = pubs.split('\\n')\n",
    "        pubs = [pd.to_datetime(ts.strip('\"'), yearfirst=True) for ts in pubs]\n",
    "        index= pd.Series(pubs,name='Publication')\n",
    "        cves = cve_id_query.input(data).text()\n",
    "        cves = cves.split('\\n')\n",
    "        cves = [cve.strip('\"') for cve in cves]\n",
    "        assigners = cve_assigner_query.input(data).text()\n",
    "        assigners = assigners.split('\\n')\n",
    "        description = cve_description_query.input(data).text()\n",
    "        description = description.split('\\n')\n",
    "        cvss_v2 = cvss_v2_score_query.input(data).text()\n",
    "        cvss_v2 = cvss_v2.split('\\n')\n",
    "        cvss_v2_vector = cvss_v2_vector_query.input(data).text()\n",
    "        cvss_v2_vector = cvss_v2_vector.split('\\n')\n",
    "        cvss_v2_exploitability = cvss_v2_exploitability_score_query.input(data).text()\n",
    "        cvss_v2_exploitability = cvss_v2_exploitability.split('\\n')\n",
    "        cvss_v3 = cvss_v3_score_query.input(data).text()\n",
    "        cvss_v3 = cvss_v3.split('\\n')\n",
    "        cvss_v3_vector = cvss_v3_vector_query.input(data).text()\n",
    "        cvss_v3_vector = cvss_v3_vector.split('\\n')\n",
    "        cvss_v3_exploitability = cvss_v3_exploitability_score_query.input(data).text()\n",
    "        cvss_v3_exploitability = cvss_v3_exploitability.split('\\n')\n",
    "        cwe = cwe_query.input(data).text()\n",
    "        cwe = cwe.split('\\n')\n",
    "        cpe23 = cpe23_query.input(data).text()\n",
    "        cpe23_list = cpe23.split(\"\\n\")\n",
    "        cpe23_string_list = [s.split(\",\") for s in cpe23_list]\n",
    "        s1 = pd.Series(cves,name='ID')\n",
    "        s2 = pd.Series(assigners,name='ASSIGNER')\n",
    "        s3 = pd.Series(description,name='DESCRIPTION')\n",
    "        ones = [1]*len(cves)\n",
    "        s4 = pd.Series(ones,name='Count')\n",
    "        s5 = pd.Series(cvss_v2,name='v2 CVSS')\n",
    "        s6 = pd.Series(cvss_v2_vector,name='v2 Vector')\n",
    "        s7 = pd.Series(cvss_v2_exploitability,name='v2 Exploitability Score')\n",
    "        s8 = pd.Series(cvss_v3,name='v3 CVSS')\n",
    "        s9 = pd.Series(cvss_v3_vector,name='v3 Vector')\n",
    "        s10 = pd.Series(cvss_v3_exploitability,name='v3 Expoitability Score')\n",
    "        s11 = pd.Series(cwe,name='CWE')\n",
    "        s12 = pd.Series(cpe23_string_list,name='v2.3 CPE')\n",
    "        vulns = pd.concat([index,s1,s2,s3,s4,s5,s6,s7,s8,s9,s10,s11,s12], axis=1)\n",
    "        vulns = vulns.set_index('Publication')\n",
    "        collector.append(vulns)\n",
    "        json_file.close()\n",
    "all_items = pd.concat(collector)"
   ]
  },
  {
   "cell_type": "markdown",
   "id": "sgzeBTCf2w1R",
   "metadata": {
    "id": "sgzeBTCf2w1R"
   },
   "source": [
    "Save all the data we just filtered to a CSV file, for future use."
   ]
  },
  {
   "cell_type": "code",
   "execution_count": 9,
   "id": "d5a634b0",
   "metadata": {
    "colab": {
     "background_save": true
    },
    "id": "d5a634b0"
   },
   "outputs": [],
   "source": [
    "all_items.sort_index()\n",
    "all_items.to_csv('NVD-Vulnerability-Volumes.csv')"
   ]
  },
  {
   "cell_type": "markdown",
   "id": "fEoLX86f2727",
   "metadata": {
    "id": "fEoLX86f2727"
   },
   "source": [
    "If you want to read that file in the future, without fetching all the data again, just uncoment the cell below."
   ]
  },
  {
   "cell_type": "code",
   "execution_count": 10,
   "id": "2d2a5b2e",
   "metadata": {
    "colab": {
     "background_save": true
    },
    "id": "2d2a5b2e",
    "outputId": "955e5b09-f4da-4c1c-cdca-92930b5fac07"
   },
   "outputs": [],
   "source": [
    "all_items = pd.read_csv('NVD-Vulnerability-Volumes.csv',index_col=['Publication'],parse_dates=['Publication'], low_memory=False)\n",
    "all_items = all_items.sort_index()"
   ]
  },
  {
   "cell_type": "code",
   "execution_count": null,
   "id": "67c4d913-7321-435b-93a6-fddf6c1d1665",
   "metadata": {},
   "outputs": [],
   "source": []
  }
 ],
 "metadata": {
  "colab": {
   "collapsed_sections": [],
   "provenance": []
  },
  "kernelspec": {
   "display_name": "Python 3 (ipykernel)",
   "language": "python",
   "name": "python3"
  },
  "language_info": {
   "codemirror_mode": {
    "name": "ipython",
    "version": 3
   },
   "file_extension": ".py",
   "mimetype": "text/x-python",
   "name": "python",
   "nbconvert_exporter": "python",
   "pygments_lexer": "ipython3",
   "version": "3.11.9"
  }
 },
 "nbformat": 4,
 "nbformat_minor": 5
}
